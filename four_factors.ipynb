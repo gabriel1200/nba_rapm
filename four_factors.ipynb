{
 "cells": [
  {
   "cell_type": "code",
   "execution_count": 1,
   "id": "2c617d26-49cf-4fab-9df5-c6dc2d1c3e95",
   "metadata": {},
   "outputs": [],
   "source": [
    "import pandas as pd\n",
    "import requests\n",
    "def pull_data(url):\n",
    "\n",
    "\n",
    "    headers = {\n",
    "                                    \"Host\": \"stats.nba.com\",\n",
    "                                    \"User-Agent\": \"Mozilla/5.0 (Windows NT 10.0; Win64; x64; rv:72.0) Gecko/20100101 Firefox/72.0\",\n",
    "                                    \"Accept\": \"application/json, text/plain, */*\",\n",
    "                                    \"Accept-Language\": \"en-US,en;q=0.5\",\n",
    "                                    \"Accept-Encoding\": \"gzip, deflate, br\",\n",
    "\n",
    "                                    \"Connection\": \"keep-alive\",\n",
    "                                    \"Referer\": \"https://stats.nba.com/\"\n",
    "                                }\n",
    "    json = requests.get(url,headers = headers).json()\n",
    "    if len(json[\"resultSets\"])== 1:\n",
    "\n",
    "        \n",
    "        data = json[\"resultSets\"][0][\"rowSet\"]\n",
    "        #print(data)\n",
    "        columns = json[\"resultSets\"][0][\"headers\"]\n",
    "        #print(columns)\n",
    "        \n",
    "        df = pd.DataFrame.from_records(data, columns=columns)\n",
    "    else:\n",
    "\n",
    "        data = json[\"resultSets\"][\"rowSet\"]\n",
    "        print(data)\n",
    "        #print(json)\n",
    "        columns = json[\"resultSets\"][\"headers\"][1]['columnNames']\n",
    "        #print(columns)\n",
    "        df = pd.DataFrame.from_records(data, columns=columns)\n",
    "    return df\n",
    "rs_frames=[]\n",
    "for year in range(1997,2025):\n",
    "    season = f\"{year-1}-{str(year)[-2:]}\"\n",
    "    stype = 'Regular%20Season'\n",
    "    url = 'https://stats.nba.com/stats/leaguedashteamstats?Conference=&DateFrom=&DateTo=&Division=&GameScope=&GameSegment=&Height=&ISTRound=&LastNGames=0&LeagueID=00&Location=&MeasureType=Four%20Factors&Month=0&OpponentTeamID=0&Outcome=&PORound=0&PaceAdjust=N&PerMode=PerGame&Period=0&PlayerExperience=&PlayerPosition=&PlusMinus=N&Rank=N&Season='+season+'&SeasonSegment=&SeasonType='+stype+'&ShotClockRange=&StarterBench=&TeamID=0&TwoWay=0&VsConference=&VsDivision='\n",
    "    df = pull_data(url)\n",
    "    url2='https://stats.nba.com/stats/leaguedashteamstats?Conference=&DateFrom=&DateTo=&Division=&GameScope=&GameSegment=&Height=&ISTRound=&LastNGames=0&LeagueID=00&Location=&MeasureType=Advanced&Month=0&OpponentTeamID=0&Outcome=&PORound=0&PaceAdjust=N&PerMode=PerGame&Period=0&PlayerExperience=&PlayerPosition=&PlusMinus=N&Rank=N&Season='+season+'&SeasonSegment=&SeasonType='+stype+'&ShotClockRange=&StarterBench=&TeamID=0&TwoWay=0&VsConference=&VsDivision='\n",
    "    df2 = pull_data(url2)\n",
    "    df=df.merge(df2)\n",
    "    df['year']=year\n",
    "    rs_frames.append(df)\n",
    "ps_frames=[]\n",
    "for year in range(1997,2025):\n",
    "    season = f\"{year-1}-{str(year)[-2:]}\"\n",
    "    stype = 'Playoffs'\n",
    "    url = 'https://stats.nba.com/stats/leaguedashteamstats?Conference=&DateFrom=&DateTo=&Division=&GameScope=&GameSegment=&Height=&ISTRound=&LastNGames=0&LeagueID=00&Location=&MeasureType=Four%20Factors&Month=0&OpponentTeamID=0&Outcome=&PORound=0&PaceAdjust=N&PerMode=PerGame&Period=0&PlayerExperience=&PlayerPosition=&PlusMinus=N&Rank=N&Season='+season+'&SeasonSegment=&SeasonType='+stype+'&ShotClockRange=&StarterBench=&TeamID=0&TwoWay=0&VsConference=&VsDivision='\n",
    "    df = pull_data(url)\n",
    "    url2='https://stats.nba.com/stats/leaguedashteamstats?Conference=&DateFrom=&DateTo=&Division=&GameScope=&GameSegment=&Height=&ISTRound=&LastNGames=0&LeagueID=00&Location=&MeasureType=Advanced&Month=0&OpponentTeamID=0&Outcome=&PORound=0&PaceAdjust=N&PerMode=PerGame&Period=0&PlayerExperience=&PlayerPosition=&PlusMinus=N&Rank=N&Season='+season+'&SeasonSegment=&SeasonType='+stype+'&ShotClockRange=&StarterBench=&TeamID=0&TwoWay=0&VsConference=&VsDivision='\n",
    "    df2 = pull_data(url2)\n",
    "    df=df.merge(df2)\n",
    "    df['year']=year\n",
    "    ps_frames.append(df)\n"
   ]
  },
  {
   "cell_type": "code",
   "execution_count": 2,
   "id": "ee6d6955-a93c-4223-9221-38a117720bf1",
   "metadata": {},
   "outputs": [],
   "source": [
    "rs_ff=pd.concat(rs_frames)\n",
    "rs_ff.to_csv('teamfactors.csv',index = False)\n",
    "\n",
    "ps_ff=pd.concat(ps_frames)\n",
    "ps_ff.to_csv('teamfactors_ps.csv',index = False)"
   ]
  },
  {
   "cell_type": "code",
   "execution_count": null,
   "id": "426bae07-fb5c-49ed-b820-3ba956097b87",
   "metadata": {},
   "outputs": [],
   "source": []
  }
 ],
 "metadata": {
  "kernelspec": {
   "display_name": "Python 3 (ipykernel)",
   "language": "python",
   "name": "python3"
  },
  "language_info": {
   "codemirror_mode": {
    "name": "ipython",
    "version": 3
   },
   "file_extension": ".py",
   "mimetype": "text/x-python",
   "name": "python",
   "nbconvert_exporter": "python",
   "pygments_lexer": "ipython3",
   "version": "3.10.12"
  }
 },
 "nbformat": 4,
 "nbformat_minor": 5
}
