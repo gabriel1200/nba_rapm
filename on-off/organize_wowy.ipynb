{
 "cells": [
  {
   "cell_type": "code",
   "execution_count": 2,
   "id": "251acbee-896e-42d1-a711-7750366200fd",
   "metadata": {},
   "outputs": [],
   "source": [
    "import pandas as pd\n",
    "import os\n",
    "frames = []\n",
    "start_year=2001\n",
    "end_year=2025\n",
    "for year in range(start_year, end_year):\n",
    "    ps=''\n",
    "    vs=''\n",
    "    total_year = pd.read_csv('years/'+str(year)+vs+ps+'.csv')\n",
    "    total_year['year']=year\n",
    "    \n",
    "    frames.append(total_year)\n",
    "all_years = pd.concat(frames)\n",
    "all_years\n",
    "\n",
    "\n",
    "frames2 = []\n",
    "for year in range(start_year, end_year):\n",
    "    ps=''\n",
    "    vs='vs'\n",
    "    total_year = pd.read_csv('years/'+str(year)+vs+ps+'.csv')\n",
    "    frames2.append(total_year)\n",
    "all_yearsvs = pd.concat(frames2)"
   ]
  },
  {
   "cell_type": "code",
   "execution_count": 3,
   "id": "5465feb3-2141-4f0f-a5f5-178b2cffccfd",
   "metadata": {},
   "outputs": [],
   "source": [
    "\n",
    "players = all_years.player_id.unique()\n",
    "for player in players:\n",
    "    playerframe=all_years[all_years.player_id==player]\n",
    "    playerframe.to_csv('players/'+str(player)+'.csv',index= False)\n",
    "\n",
    "    playerframevs=all_yearsvs[all_yearsvs.player_id==player]\n",
    "    playerframevs.to_csv('players/'+str(player)+'vs.csv',index= False)\n",
    "\n",
    "                            "
   ]
  },
  {
   "cell_type": "code",
   "execution_count": null,
   "id": "5ca79e18-3280-4b21-bc28-769c583b5c89",
   "metadata": {},
   "outputs": [],
   "source": []
  }
 ],
 "metadata": {
  "kernelspec": {
   "display_name": "Python 3 (ipykernel)",
   "language": "python",
   "name": "python3"
  },
  "language_info": {
   "codemirror_mode": {
    "name": "ipython",
    "version": 3
   },
   "file_extension": ".py",
   "mimetype": "text/x-python",
   "name": "python",
   "nbconvert_exporter": "python",
   "pygments_lexer": "ipython3",
   "version": "3.10.12"
  }
 },
 "nbformat": 4,
 "nbformat_minor": 5
}
