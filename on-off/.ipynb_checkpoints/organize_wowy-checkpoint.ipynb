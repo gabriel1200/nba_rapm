{
 "cells": [
  {
   "cell_type": "code",
   "execution_count": 1,
   "id": "251acbee-896e-42d1-a711-7750366200fd",
   "metadata": {},
   "outputs": [
    {
     "name": "stdout",
     "output_type": "stream",
     "text": [
      "years/2001.csv\n",
      "years/2002.csv\n",
      "years/2003.csv\n",
      "years/2004.csv\n",
      "years/2005.csv\n",
      "years/2006.csv\n",
      "years/2007.csv\n",
      "years/2008.csv\n",
      "years/2009.csv\n",
      "years/2010.csv\n",
      "years/2011.csv\n",
      "years/2012.csv\n",
      "years/2013.csv\n",
      "years/2014.csv\n",
      "years/2015.csv\n",
      "years/2016.csv\n",
      "years/2017.csv\n",
      "years/2018.csv\n",
      "years/2019.csv\n",
      "years/2020.csv\n",
      "years/2021.csv\n",
      "years/2022.csv\n",
      "years/2023.csv\n",
      "years/2024.csv\n",
      "years/2001vs.csv\n",
      "years/2002vs.csv\n",
      "years/2003vs.csv\n",
      "years/2004vs.csv\n",
      "years/2005vs.csv\n",
      "years/2006vs.csv\n",
      "years/2007vs.csv\n",
      "years/2008vs.csv\n",
      "years/2009vs.csv\n",
      "years/2010vs.csv\n",
      "years/2011vs.csv\n",
      "years/2012vs.csv\n",
      "years/2013vs.csv\n",
      "years/2014vs.csv\n",
      "years/2015vs.csv\n",
      "years/2016vs.csv\n",
      "years/2017vs.csv\n",
      "years/2018vs.csv\n",
      "years/2019vs.csv\n",
      "years/2020vs.csv\n",
      "years/2021vs.csv\n",
      "years/2022vs.csv\n",
      "years/2023vs.csv\n",
      "years/2024vs.csv\n",
      "26170\n"
     ]
    }
   ],
   "source": [
    "import pandas as pd\n",
    "import os\n",
    "frames = []\n",
    "start_year=2001\n",
    "end_year=2025\n",
    "averages = pd.read_csv('../season_totals.csv')\n",
    "\n",
    "\n",
    "ps='ps'\n",
    "if ps=='ps':\n",
    "    averages = pd.read_csv('../season_totals_ps.csv')\n",
    "averages['ortg'] = 100*averages['Points']/averages['OffPoss']\n",
    "averages['drtg'] = 100*averages['OpponentPoints']/averages['DefPoss']\n",
    "\n",
    "for year in range(start_year, end_year):\n",
    "\n",
    "    vs=''\n",
    "    print('years/'+str(year)+vs+ps+'.csv')\n",
    "    total_year = pd.read_csv('years/'+str(year)+vs+ps+'.csv')\n",
    "    total_year['FTA_Rate']=total_year['FTA']/(total_year['FG3A']+total_year['FG2A'])\n",
    "    total_year['TOV%'] = 100* total_year['Turnovers'] / ((total_year['FG3A'] + total_year['FG2A']) + (0.44 * total_year['FTA'])  + total_year['Turnovers']- total_year['OffRebounds']) \n",
    "    total_year['ortg'] = 100*total_year['Points']/total_year['OffPoss']\n",
    "    total_year['drtg'] = 100*total_year['OpponentPoints']/total_year['DefPoss']\n",
    "\n",
    "    total_year['year']=year\n",
    "    \n",
    "    frames.append(total_year)\n",
    "all_years = pd.concat(frames)\n",
    "ff=['EfgPct','FTA_Rate','TOV%','TsPct','OffFGReboundPct','drtg','ortg']\n",
    "\n",
    "\n",
    "averages= averages[['year']+ff]\n",
    "\n",
    "aff=['a'+col for col in ff]\n",
    "\n",
    "averages.columns=['year']+aff\n",
    "all_years = all_years.merge(averages)\n",
    "for col in ff:\n",
    "    all_years['r'+col] = all_years[col]-all_years['a'+col]\n",
    "frames2 = []\n",
    "for year in range(start_year, end_year):\n",
    "\n",
    "    vs='vs'\n",
    "    print('years/'+str(year)+vs+ps+'.csv')\n",
    "    total_year = pd.read_csv('years/'+str(year)+vs+ps+'.csv')\n",
    "    total_year['FTA_Rate']=total_year['FTA']/(total_year['FG3A']+total_year['FG2A'])\n",
    "    total_year['TOV%'] = 100* total_year['Turnovers'] / ((total_year['FG3A'] + total_year['FG2A']) + (0.44 * total_year['FTA'])  + total_year['Turnovers']- total_year['OffRebounds']) \n",
    "    total_year['ortg'] = 100*total_year['Points']/total_year['OffPoss']\n",
    "    total_year['drtg'] = 100*total_year['OpponentPoints']/total_year['DefPoss']\n",
    "\n",
    "    total_year['year']=year\n",
    "    frames2.append(total_year)\n",
    "all_yearsvs = pd.concat(frames2)\n",
    "all_yearsvs = all_yearsvs.merge(averages)\n",
    "for col in ff:\n",
    "    all_yearsvs['r'+col] = all_yearsvs[col]-all_yearsvs['a'+col]\n",
    "print(len(all_years))"
   ]
  },
  {
   "cell_type": "code",
   "execution_count": 2,
   "id": "9d1e48c9-491f-4346-96d9-fd1a8f169ba8",
   "metadata": {},
   "outputs": [
    {
     "data": {
      "text/plain": [
       "0         97.388809\n",
       "1         98.784933\n",
       "2               NaN\n",
       "3         98.157652\n",
       "4         91.360294\n",
       "            ...    \n",
       "26165    121.145895\n",
       "26166    104.838710\n",
       "26167    108.963774\n",
       "26168    117.647059\n",
       "26169    117.633544\n",
       "Name: ortg, Length: 26170, dtype: float64"
      ]
     },
     "execution_count": 2,
     "metadata": {},
     "output_type": "execute_result"
    }
   ],
   "source": [
    "all_years['rdrtg']"
   ]
  },
  {
   "cell_type": "code",
   "execution_count": 3,
   "id": "5465feb3-2141-4f0f-a5f5-178b2cffccfd",
   "metadata": {},
   "outputs": [
    {
     "name": "stdout",
     "output_type": "stream",
     "text": [
      "\n"
     ]
    }
   ],
   "source": [
    "\n",
    "players = all_years.player_id.unique()\n",
    "if ps =='ps':\n",
    "    ps='_ps'\n",
    "\n",
    "print(ps)\n",
    "for player in players:\n",
    "    playerframe=all_years[all_years.player_id==player].reset_index(drop=True)\n",
    "\n",
    "    playerframe=playerframe.drop_duplicates()\n",
    "    playerframe.to_csv('players'+ps+'/'+str(player)+'.csv',index= False)\n",
    "\n",
    "    playerframevs=all_yearsvs[all_yearsvs.player_id==player]\n",
    "    playerframevs=playerframevs.drop_duplicates()\n",
    "    playerframevs.to_csv('players'+ps+'/'+str(player)+'vs.csv',index= False)\n",
    "\n",
    "                            "
   ]
  },
  {
   "cell_type": "code",
   "execution_count": null,
   "id": "0ee73683-517d-43b8-9ea4-4c00a94da222",
   "metadata": {},
   "outputs": [],
   "source": []
  },
  {
   "cell_type": "code",
   "execution_count": null,
   "id": "5ca79e18-3280-4b21-bc28-769c583b5c89",
   "metadata": {},
   "outputs": [],
   "source": []
  }
 ],
 "metadata": {
  "kernelspec": {
   "display_name": "Python 3 (ipykernel)",
   "language": "python",
   "name": "python3"
  },
  "language_info": {
   "codemirror_mode": {
    "name": "ipython",
    "version": 3
   },
   "file_extension": ".py",
   "mimetype": "text/x-python",
   "name": "python",
   "nbconvert_exporter": "python",
   "pygments_lexer": "ipython3",
   "version": "3.10.12"
  }
 },
 "nbformat": 4,
 "nbformat_minor": 5
}
