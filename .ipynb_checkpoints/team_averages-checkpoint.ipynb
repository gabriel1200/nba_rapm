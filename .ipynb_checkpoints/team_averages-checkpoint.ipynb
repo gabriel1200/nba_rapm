{
 "cells": [
  {
   "cell_type": "code",
   "execution_count": 1,
   "id": "f4940160-2c4b-4522-adcb-38685cdde9f7",
   "metadata": {},
   "outputs": [
    {
     "name": "stdout",
     "output_type": "stream",
     "text": [
      "2001\n",
      "2002\n",
      "2003\n",
      "2004\n",
      "2005\n",
      "2006\n",
      "2007\n",
      "2008\n",
      "2009\n",
      "2010\n",
      "2011\n",
      "2012\n",
      "2013\n",
      "2014\n",
      "2015\n",
      "2016\n",
      "2017\n",
      "2018\n",
      "2019\n",
      "2020\n",
      "2021\n",
      "2022\n",
      "2023\n",
      "2024\n"
     ]
    }
   ],
   "source": [
    "import pandas as pd\n",
    "import requests\n",
    "import time\n",
    "\n",
    "def pull_totals(ps=False):\n",
    "    frames = []\n",
    "    \n",
    "    years = [i for i in range(2001,2025)]\n",
    "    if ps == False:\n",
    "        s_type=\"Regular Season\"\n",
    "    else:\n",
    "        s_type= \"Playoffs\"\n",
    "    frames = []\n",
    "    for year in years:\n",
    "        season = str(year-1)+'-'+str(year)[-2:]\n",
    "        wowy_url = \"https://api.pbpstats.com/get-totals/nba\"\n",
    "        term = \"Team\"\n",
    "        wowy_params = {\n",
    "        \n",
    "                \"Season\": season,\n",
    "                \"SeasonType\": s_type,\n",
    "                \"Type\": term\n",
    "        \n",
    "            }\n",
    "        headers = {\n",
    "            'User-Agent': 'Mozilla/5.0 (Windows NT 10.0; Win64; x64) AppleWebKit/537.36 (KHTML, like Gecko) Chrome/115.0.0.0 Safari/537.36 Edg/115.0.1901.183',\n",
    "            'Accept': 'text/html,application/xhtml+xml,application/xml;q=0.9,image/webp,image/apng,*/*;q=0.8,application/signed-exchange;v=b3;q=0.7',\n",
    "            'Accept-Language': 'en-US,en;q=0.9',\n",
    "            'Accept-Encoding': 'gzip, deflate, br',\n",
    "            'DNT': '1',\n",
    "            'Connection': 'keep-alive',\n",
    "            'Upgrade-Insecure-Requests': '1',\n",
    "            'Sec-Fetch-Dest': 'document',\n",
    "            'Sec-Fetch-Mode': 'navigate',\n",
    "            'Sec-Fetch-Site': 'none',\n",
    "            'Sec-Fetch-User': '?1',\n",
    "            'Cache-Control': 'max-age=0',}\n",
    "        time.sleep(2)\n",
    "        wowy_response = requests.get(wowy_url, params=wowy_params,headers=headers)\n",
    "    \n",
    "        wowy = wowy_response.json()\n",
    "        #print(wowy)\n",
    "        team_stats= wowy[\"single_row_table_data\"]\n",
    "        team_stats['year'] = year\n",
    "        print(year)\n",
    "        \n",
    "        df = pd.DataFrame(team_stats,index = [0])\n",
    "        frames.append(df)\n",
    "    return pd.concat(frames)\n",
    "  \n",
    "\n",
    "df = pull_totals(ps=True)\n"
   ]
  },
  {
   "cell_type": "code",
   "execution_count": 3,
   "id": "bd945047-e643-4fc5-9b49-3d9f93d24611",
   "metadata": {},
   "outputs": [],
   "source": [
    "df.to_csv('season_totals_ps.csv',index =False)"
   ]
  },
  {
   "cell_type": "code",
   "execution_count": 4,
   "id": "d4a2b2d8-7d06-4dc6-8f64-81c6a728c59d",
   "metadata": {},
   "outputs": [
    {
     "name": "stderr",
     "output_type": "stream",
     "text": [
      "/tmp/ipykernel_24093/3256235439.py:1: PerformanceWarning: DataFrame is highly fragmented.  This is usually the result of calling `frame.insert` many times, which has poor performance.  Consider joining all columns at once using pd.concat(axis=1) instead. To get a de-fragmented frame, use `newframe = frame.copy()`\n",
      "  df['FTA_Rate']=df['FTA']/(df['FG3A']+df['FG2A'])\n",
      "/tmp/ipykernel_24093/3256235439.py:2: PerformanceWarning: DataFrame is highly fragmented.  This is usually the result of calling `frame.insert` many times, which has poor performance.  Consider joining all columns at once using pd.concat(axis=1) instead. To get a de-fragmented frame, use `newframe = frame.copy()`\n",
      "  df['TOV%'] = 100* df['Turnovers'] / ((df['FG3A'] + df['FG2A']) + (0.44 * df['FTA'])  + df['Turnovers']- df['OffRebounds'])\n"
     ]
    }
   ],
   "source": [
    "df['FTA_Rate']=df['FTA']/(df['FG3A']+df['FG2A'])\n",
    "df['TOV%'] = 100* df['Turnovers'] / ((df['FG3A'] + df['FG2A']) + (0.44 * df['FTA'])  + df['Turnovers']- df['OffRebounds']) "
   ]
  },
  {
   "cell_type": "code",
   "execution_count": 5,
   "id": "45e182fa-33bf-4f29-b35e-39dfc1e0719e",
   "metadata": {},
   "outputs": [],
   "source": [
    "df.to_csv('season_totals_ps.csv',index =False)"
   ]
  },
  {
   "cell_type": "code",
   "execution_count": null,
   "id": "0b68e3b1-d5b4-4635-88a0-26cb5a02bba0",
   "metadata": {},
   "outputs": [],
   "source": []
  },
  {
   "cell_type": "code",
   "execution_count": null,
   "id": "482dbe80-3475-4bec-b5a3-e9b29afb879d",
   "metadata": {},
   "outputs": [],
   "source": []
  }
 ],
 "metadata": {
  "kernelspec": {
   "display_name": "Python 3 (ipykernel)",
   "language": "python",
   "name": "python3"
  },
  "language_info": {
   "codemirror_mode": {
    "name": "ipython",
    "version": 3
   },
   "file_extension": ".py",
   "mimetype": "text/x-python",
   "name": "python",
   "nbconvert_exporter": "python",
   "pygments_lexer": "ipython3",
   "version": "3.10.12"
  }
 },
 "nbformat": 4,
 "nbformat_minor": 5
}
